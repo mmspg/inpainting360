{
 "cells": [
  {
   "cell_type": "markdown",
   "metadata": {},
   "source": [
    "# Data Analysis\n",
    "## Read the raw data from .csv files"
   ]
  },
  {
   "cell_type": "code",
   "execution_count": 1,
   "metadata": {},
   "outputs": [
    {
     "name": "stdout",
     "output_type": "stream",
     "text": [
      "Number of subjects: 16\n"
     ]
    },
    {
     "data": {
      "text/html": [
       "<div>\n",
       "<style>\n",
       "    .dataframe thead tr:only-child th {\n",
       "        text-align: right;\n",
       "    }\n",
       "\n",
       "    .dataframe thead th {\n",
       "        text-align: left;\n",
       "    }\n",
       "\n",
       "    .dataframe tbody tr th {\n",
       "        vertical-align: top;\n",
       "    }\n",
       "</style>\n",
       "<table border=\"1\" class=\"dataframe\">\n",
       "  <thead>\n",
       "    <tr style=\"text-align: right;\">\n",
       "      <th></th>\n",
       "      <th>Subject</th>\n",
       "      <th>Stimulus</th>\n",
       "      <th>Image</th>\n",
       "      <th>Method</th>\n",
       "      <th>Vote</th>\n",
       "    </tr>\n",
       "  </thead>\n",
       "  <tbody>\n",
       "    <tr>\n",
       "      <th>0</th>\n",
       "      <td>1540200586223</td>\n",
       "      <td>various_C11_equirec_2048x1024_Criminisi_q00.jpg</td>\n",
       "      <td>C4</td>\n",
       "      <td>Criminisi</td>\n",
       "      <td>2</td>\n",
       "    </tr>\n",
       "    <tr>\n",
       "      <th>1</th>\n",
       "      <td>1540200586223</td>\n",
       "      <td>various_C3_equirec_2048x1024_CSH360_q00.jpg</td>\n",
       "      <td>C1</td>\n",
       "      <td>CSH360</td>\n",
       "      <td>3</td>\n",
       "    </tr>\n",
       "    <tr>\n",
       "      <th>2</th>\n",
       "      <td>1540200586223</td>\n",
       "      <td>various_C12_equirec_2048x1024_Criminisi_q00.jpg</td>\n",
       "      <td>C5</td>\n",
       "      <td>Criminisi</td>\n",
       "      <td>2</td>\n",
       "    </tr>\n",
       "    <tr>\n",
       "      <th>3</th>\n",
       "      <td>1540200586223</td>\n",
       "      <td>various_C8_equirec_2048x1024_Criminisi_q00.jpg</td>\n",
       "      <td>C2</td>\n",
       "      <td>Criminisi</td>\n",
       "      <td>4</td>\n",
       "    </tr>\n",
       "    <tr>\n",
       "      <th>4</th>\n",
       "      <td>1540200586223</td>\n",
       "      <td>various_C10_equirec_2048x1024_Criminisi360_q00...</td>\n",
       "      <td>C3</td>\n",
       "      <td>Criminisi360</td>\n",
       "      <td>4</td>\n",
       "    </tr>\n",
       "  </tbody>\n",
       "</table>\n",
       "</div>"
      ],
      "text/plain": [
       "         Subject                                           Stimulus Image  \\\n",
       "0  1540200586223    various_C11_equirec_2048x1024_Criminisi_q00.jpg    C4   \n",
       "1  1540200586223        various_C3_equirec_2048x1024_CSH360_q00.jpg    C1   \n",
       "2  1540200586223    various_C12_equirec_2048x1024_Criminisi_q00.jpg    C5   \n",
       "3  1540200586223     various_C8_equirec_2048x1024_Criminisi_q00.jpg    C2   \n",
       "4  1540200586223  various_C10_equirec_2048x1024_Criminisi360_q00...    C3   \n",
       "\n",
       "         Method  Vote  \n",
       "0     Criminisi     2  \n",
       "1        CSH360     3  \n",
       "2     Criminisi     2  \n",
       "3     Criminisi     4  \n",
       "4  Criminisi360     4  "
      ]
     },
     "execution_count": 1,
     "metadata": {},
     "output_type": "execute_result"
    }
   ],
   "source": [
    "import pandas as pd\n",
    "import os as os\n",
    "\n",
    "# Get subject list from file names\n",
    "data_dir='data/tracking/'\n",
    "files = os.listdir(data_dir)\n",
    "subjects = [ f.split('g.csv')[0] for f in files if 'g.csv' in f ]\n",
    "\n",
    "# Load the score data by subject\n",
    "# Read votes from csv-files to Pandas DataFrames and concatenate\n",
    "def read_votes(x):\n",
    "    df = pd.read_csv(data_dir + x + 'g.csv')\n",
    "    df.columns =['Stimulus','Vote','TrackID']\n",
    "    df['Subject'] = x\n",
    "    return df\n",
    "df = pd.concat([ read_votes(s) for s in subjects ]).reset_index(drop=True)\n",
    "\n",
    "# Rename stimuli\n",
    "def rn_st(s):\n",
    "    d = {'C3':'C1', 'C8':'C2', 'C10':'C3', 'C11':'C4', 'C12':'C5'}\n",
    "    return d[s]\n",
    "# Rename method\n",
    "def rn_md(s):\n",
    "    d = {'CSH':'CSH', 'CSH360':'CSH360',\n",
    "         'Criminisi':'Criminisi','Criminisi360':'Criminisi360',\n",
    "         'FFIIwGC':'GIIwCA', 'FFIIwGC360':'GIIwCA360'}\n",
    "    return d[s]\n",
    "\n",
    "# Parce stimulus names to Image and Method\n",
    "name_parsed = pd.DataFrame(\n",
    "    [ [rn_st(s.split('_')[1]),rn_md(s.split('_')[4])] for s in df['Stimulus'] ],\n",
    "    columns=['Image','Method']\n",
    ")\n",
    "df = df.merge(name_parsed,left_index=True, right_index=True)\n",
    "\n",
    "dfExpData = df[['Subject','Stimulus','Image','Method','Vote']]\n",
    "\n",
    "dfExpData.to_csv('experiment_data.csv')\n",
    "\n",
    "print(\"Number of subjects:\",len(subjects))\n",
    "dfExpData.head()"
   ]
  },
  {
   "cell_type": "code",
   "execution_count": null,
   "metadata": {
    "collapsed": true
   },
   "outputs": [],
   "source": []
  },
  {
   "cell_type": "markdown",
   "metadata": {},
   "source": [
    "## Perform outlier detection\n",
    "Outliers detections method is described in\n",
    "ITU-R BT.500-13 (2012): Section 2.3.1, Page 35"
   ]
  },
  {
   "cell_type": "code",
   "execution_count": 2,
   "metadata": {},
   "outputs": [
    {
     "name": "stdout",
     "output_type": "stream",
     "text": [
      "Outliers detected: 0\n",
      "[]\n"
     ]
    }
   ],
   "source": [
    "import numpy as np\n",
    "import scipy.stats as ss\n",
    "from functools import reduce\n",
    "\n",
    "# Outlier detection\n",
    "\n",
    "df = dfExpData # Get a copy of the data\n",
    "\n",
    "# Calculate moments: mean, standard deviation, kurtosis per stimulus\n",
    "ms = pd.DataFrame([(stimulus, votes.mean(), votes.std(),votes.kurtosis()) \n",
    "                   for stimulus, votes in df.groupby('Stimulus')['Vote']\n",
    "                  ],\n",
    "                  columns = ['Stimulus','Mean','Std','Kurt'])\n",
    "\n",
    "pqs = list() # List if P[i] and Q[i]\n",
    "for sub in subjects: # Iterate over subjects\n",
    "    p,q = 0,0\n",
    "    for _,m in ms.iterrows(): # Iterate over subject's votes\n",
    "        v = int( df[(df.Subject == sub)&(df.Stimulus == m.Stimulus)]['Vote'] )\n",
    "        stdcoeff = np.sqrt(20) if m.Kurt < 2 or m.Kurt > 4 else 2 # Consider normal distribution if Kurt is in [2..4]\n",
    "        if v > m.Mean + m.Std*stdcoeff :  # If the vote is higher then interval\n",
    "            p = p + 1                     # increment P\n",
    "        if v < m.Mean - m.Std*stdcoeff :  # If the vote is lower then interval\n",
    "            q = q + 1                     # increment Q\n",
    "        #print(sub,m.Stimulus,np.round(m.Kurt,1),v,np.round(m.Mean-m.Std*stdcoeff,1),np.round(m.Mean+m.Std*stdcoeff,1),p,q)\n",
    "    pqs.append((sub, p, q))\n",
    "pqs = pd.DataFrame(pqs, columns=['Subject','P','Q'])\n",
    "\n",
    "N = len(set(df['Stimulus'])) # Number of stimuli (aka number of votes per subject)\n",
    "\n",
    "# If the number of outlying votes for a subject is > 5%\n",
    "# and the difference between number of votes lying upper (P) and lower (Q)\n",
    "# the specified interval is < 30% (i.e. outlying votes are rather balanced)\n",
    "# consider the subject as an outlier\n",
    "pqs['isOutlier'] = [(((s.P+s.Q)/N) > 0.05) and (abs((s.P-s.Q)/(s.P+s.Q)) < 0.3) for _,s in pqs.iterrows()]\n",
    "\n",
    "outliers = list(pqs[pqs.isOutlier]['Subject'])\n",
    "\n",
    "print('Outliers detected:',len(outliers))\n",
    "print(outliers)\n",
    "\n",
    "# Remove outliers\n",
    "if len(outliers):\n",
    "    dfExpDataScreened = df[ [reduce((lambda x,y: x and y),z) for z in zip(*[df.Subject!=o for o in outliers])] ]\n",
    "else:\n",
    "    dfExpDataScreened = df\n",
    "dfExpDataScreened.to_csv('experiment_data_screened.csv')"
   ]
  },
  {
   "cell_type": "markdown",
   "metadata": {},
   "source": [
    "## Plot mean opinion scores (MOS) with 95% confidence intervals (CI)"
   ]
  },
  {
   "cell_type": "code",
   "execution_count": 3,
   "metadata": {},
   "outputs": [
    {
     "data": {
      "image/png": "[encoded data removed]",
      "text/plain": [
       "<matplotlib.figure.Figure at 0x112dad320>"
      ]
     },
     "metadata": {},
     "output_type": "display_data"
    }
   ],
   "source": [
    "import matplotlib.pyplot as plt\n",
    "import numpy as np\n",
    "import scipy.stats as ss\n",
    "\n",
    "# Get a copy of the screened data\n",
    "df = dfExpDataScreened\n",
    "\n",
    "images = list(set(df.Image)); images.sort()\n",
    "\n",
    "# Calculate 95% confidence interval assuming Student's T distribution\n",
    "def get_ci(xs):\n",
    "    return ss.t.interval(0.95, len(xs)-1, loc=np.mean(xs),\n",
    "                         scale=ss.sem(xs)) if ss.sem(xs) > 0 else (np.mean(xs),np.mean(xs))\n",
    "\n",
    "# Draw a MOS (sub)plot \n",
    "def plot_mos_per_image(im):\n",
    "    # Retrive data for an image 'im' and group by method\n",
    "    xs = list(df[df['Image'] == im][['Method','Vote']].groupby(['Method']))\n",
    "    methods = [x[0] for x in xs]\n",
    "    # Calculate means for stimulus data grouped earlier\n",
    "    means = [np.mean(x[1]['Vote']) for x in xs]\n",
    "    errors = [np.abs(np.array(get_ci(x[1]['Vote']))-np.mean(x[1]['Vote'])) for x in xs]\n",
    "    errors = list(zip(*errors)) # Re-format the list to feed to matplotlib.errorbar\n",
    "    x = list(range(0,len(methods))) \n",
    "    plt.xticks(x, methods,rotation='45') # X-axis tick labels\n",
    "    plt.bar(x, means, yerr=errors, capsize=3)\n",
    "    \n",
    "\n",
    "# Perform drawing of the plots for MOS with CI\n",
    "i = 1; k = 5\n",
    "plt.subplots(i,k,figsize=(15,3.2*i))\n",
    "plt.axis('off')\n",
    "for n,im in enumerate(images):\n",
    "    plt.subplot(i, k, n+1)\n",
    "    plot_mos_per_image(im)\n",
    "    plt.grid(); plt.title(im)\n",
    "    plt.ylim((0,6));\n",
    "    if n%k==0 : plt.ylabel('MOS')\n",
    "\n",
    "plt.tight_layout()\n",
    "plt.savefig(\"Mos.pdf\")\n",
    "\n",
    "plt.show()"
   ]
  },
  {
   "cell_type": "code",
   "execution_count": null,
   "metadata": {
    "collapsed": true
   },
   "outputs": [],
   "source": []
  }
 ],
 "metadata": {
  "kernelspec": {
   "display_name": "Python 3",
   "language": "python",
   "name": "python3"
  },
  "language_info": {
   "codemirror_mode": {
    "name": "ipython",
    "version": 3
   },
   "file_extension": ".py",
   "mimetype": "text/x-python",
   "name": "python",
   "nbconvert_exporter": "python",
   "pygments_lexer": "ipython3",
   "version": "3.6.5"
  }
 },
 "nbformat": 4,
 "nbformat_minor": 2
}
